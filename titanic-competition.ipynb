{
 "cells": [
  {
   "cell_type": "markdown",
   "id": "dea8b19e",
   "metadata": {
    "papermill": {
     "duration": 0.009308,
     "end_time": "2022-08-08T15:17:52.192773",
     "exception": false,
     "start_time": "2022-08-08T15:17:52.183465",
     "status": "completed"
    },
    "tags": []
   },
   "source": [
    "# Collecting the data"
   ]
  },
  {
   "cell_type": "code",
   "execution_count": 1,
   "id": "e73ace7d",
   "metadata": {
    "_cell_guid": "b1076dfc-b9ad-4769-8c92-a6c4dae69d19",
    "_uuid": "8f2839f25d086af736a60e9eeb907d3b93b6e0e5",
    "execution": {
     "iopub.execute_input": "2022-08-08T15:17:52.211669Z",
     "iopub.status.busy": "2022-08-08T15:17:52.210968Z",
     "iopub.status.idle": "2022-08-08T15:17:52.227923Z",
     "shell.execute_reply": "2022-08-08T15:17:52.226983Z"
    },
    "papermill": {
     "duration": 0.029489,
     "end_time": "2022-08-08T15:17:52.230897",
     "exception": false,
     "start_time": "2022-08-08T15:17:52.201408",
     "status": "completed"
    },
    "tags": []
   },
   "outputs": [
    {
     "name": "stdout",
     "output_type": "stream",
     "text": [
      "/kaggle/input/titanic/train.csv\n",
      "/kaggle/input/titanic/test.csv\n",
      "/kaggle/input/titanic/gender_submission.csv\n"
     ]
    }
   ],
   "source": [
    "import numpy as np \n",
    "import pandas as pd\n",
    "import matplotlib.pyplot as plt\n",
    "from matplotlib.pyplot import figure\n",
    "\n",
    "import os\n",
    "for dirname, _, filenames in os.walk('/kaggle/input'):\n",
    "    for filename in filenames:\n",
    "        print(os.path.join(dirname, filename))"
   ]
  },
  {
   "cell_type": "code",
   "execution_count": 2,
   "id": "6e9eb6ba",
   "metadata": {
    "execution": {
     "iopub.execute_input": "2022-08-08T15:17:52.250048Z",
     "iopub.status.busy": "2022-08-08T15:17:52.249232Z",
     "iopub.status.idle": "2022-08-08T15:17:52.269713Z",
     "shell.execute_reply": "2022-08-08T15:17:52.268611Z"
    },
    "papermill": {
     "duration": 0.032638,
     "end_time": "2022-08-08T15:17:52.272249",
     "exception": false,
     "start_time": "2022-08-08T15:17:52.239611",
     "status": "completed"
    },
    "tags": []
   },
   "outputs": [],
   "source": [
    "train_dataset = pd.read_csv(\"/kaggle/input/titanic/train.csv\")"
   ]
  },
  {
   "cell_type": "markdown",
   "id": "b605604e",
   "metadata": {
    "papermill": {
     "duration": 0.007732,
     "end_time": "2022-08-08T15:17:52.288062",
     "exception": false,
     "start_time": "2022-08-08T15:17:52.280330",
     "status": "completed"
    },
    "tags": []
   },
   "source": [
    "# Preprocessing"
   ]
  },
  {
   "cell_type": "code",
   "execution_count": 3,
   "id": "ca85ae7e",
   "metadata": {
    "execution": {
     "iopub.execute_input": "2022-08-08T15:17:52.306218Z",
     "iopub.status.busy": "2022-08-08T15:17:52.305443Z",
     "iopub.status.idle": "2022-08-08T15:17:53.683134Z",
     "shell.execute_reply": "2022-08-08T15:17:53.681922Z"
    },
    "papermill": {
     "duration": 1.389719,
     "end_time": "2022-08-08T15:17:53.685741",
     "exception": false,
     "start_time": "2022-08-08T15:17:52.296022",
     "status": "completed"
    },
    "tags": []
   },
   "outputs": [
    {
     "data": {
      "text/plain": [
       "<function matplotlib.pyplot.show(close=None, block=None)>"
      ]
     },
     "execution_count": 3,
     "metadata": {},
     "output_type": "execute_result"
    },
    {
     "data": {
      "image/png": "[encoded data removed]",
      "text/plain": [
       "<Figure size 432x288 with 2 Axes>"
      ]
     },
     "metadata": {
      "needs_background": "light"
     },
     "output_type": "display_data"
    }
   ],
   "source": [
    "import seaborn as sns\n",
    "sns.heatmap(train_dataset.corr(), cmap=\"YlGnBu\")\n",
    "plt.show"
   ]
  },
  {
   "cell_type": "code",
   "execution_count": 4,
   "id": "1b3973ff",
   "metadata": {
    "execution": {
     "iopub.execute_input": "2022-08-08T15:17:53.704877Z",
     "iopub.status.busy": "2022-08-08T15:17:53.704439Z",
     "iopub.status.idle": "2022-08-08T15:17:53.908830Z",
     "shell.execute_reply": "2022-08-08T15:17:53.907572Z"
    },
    "papermill": {
     "duration": 0.217642,
     "end_time": "2022-08-08T15:17:53.911914",
     "exception": false,
     "start_time": "2022-08-08T15:17:53.694272",
     "status": "completed"
    },
    "tags": []
   },
   "outputs": [],
   "source": [
    "from sklearn.model_selection import StratifiedShuffleSplit\n",
    "\n",
    "split = StratifiedShuffleSplit(n_splits=1, test_size=0.2)\n",
    "for train_indices, test_indices in split.split(train_dataset, train_dataset[[\"Survived\", \"Pclass\", \"Sex\"]]):\n",
    "    strat_train_set = train_dataset.loc[train_indices]\n",
    "    strat_test_set = train_dataset.loc[test_indices]\n",
    "\n",
    "    "
   ]
  },
  {
   "cell_type": "code",
   "execution_count": 5,
   "id": "2ac08008",
   "metadata": {
    "execution": {
     "iopub.execute_input": "2022-08-08T15:17:53.931078Z",
     "iopub.status.busy": "2022-08-08T15:17:53.930690Z",
     "iopub.status.idle": "2022-08-08T15:17:53.950283Z",
     "shell.execute_reply": "2022-08-08T15:17:53.948992Z"
    },
    "papermill": {
     "duration": 0.033031,
     "end_time": "2022-08-08T15:17:53.953678",
     "exception": false,
     "start_time": "2022-08-08T15:17:53.920647",
     "status": "completed"
    },
    "tags": []
   },
   "outputs": [
    {
     "name": "stdout",
     "output_type": "stream",
     "text": [
      "<class 'pandas.core.frame.DataFrame'>\n",
      "Int64Index: 712 entries, 415 to 689\n",
      "Data columns (total 12 columns):\n",
      " #   Column       Non-Null Count  Dtype  \n",
      "---  ------       --------------  -----  \n",
      " 0   PassengerId  712 non-null    int64  \n",
      " 1   Survived     712 non-null    int64  \n",
      " 2   Pclass       712 non-null    int64  \n",
      " 3   Name         712 non-null    object \n",
      " 4   Sex          712 non-null    object \n",
      " 5   Age          568 non-null    float64\n",
      " 6   SibSp        712 non-null    int64  \n",
      " 7   Parch        712 non-null    int64  \n",
      " 8   Ticket       712 non-null    object \n",
      " 9   Fare         712 non-null    float64\n",
      " 10  Cabin        160 non-null    object \n",
      " 11  Embarked     711 non-null    object \n",
      "dtypes: float64(2), int64(5), object(5)\n",
      "memory usage: 72.3+ KB\n"
     ]
    }
   ],
   "source": [
    "strat_train_set.info()"
   ]
  },
  {
   "cell_type": "code",
   "execution_count": 6,
   "id": "cdd91159",
   "metadata": {
    "execution": {
     "iopub.execute_input": "2022-08-08T15:17:53.973661Z",
     "iopub.status.busy": "2022-08-08T15:17:53.972806Z",
     "iopub.status.idle": "2022-08-08T15:17:54.122771Z",
     "shell.execute_reply": "2022-08-08T15:17:54.121710Z"
    },
    "papermill": {
     "duration": 0.162361,
     "end_time": "2022-08-08T15:17:54.125368",
     "exception": false,
     "start_time": "2022-08-08T15:17:53.963007",
     "status": "completed"
    },
    "tags": []
   },
   "outputs": [],
   "source": [
    "from sklearn.base import BaseEstimator, TransformerMixin\n",
    "from sklearn.impute import SimpleImputer\n",
    "\n",
    "class AgeImputer(BaseEstimator, TransformerMixin):\n",
    "    \n",
    "    def fit(self, X, y=None):\n",
    "        return self\n",
    "    \n",
    "    def transform(self, X):\n",
    "        imputer = SimpleImputer(strategy=\"mean\")\n",
    "        X[\"Age\"] = imputer.fit_transform(X[[\"Age\"]])\n",
    "        return X"
   ]
  },
  {
   "cell_type": "code",
   "execution_count": 7,
   "id": "9b588818",
   "metadata": {
    "execution": {
     "iopub.execute_input": "2022-08-08T15:17:54.144612Z",
     "iopub.status.busy": "2022-08-08T15:17:54.143960Z",
     "iopub.status.idle": "2022-08-08T15:17:54.151886Z",
     "shell.execute_reply": "2022-08-08T15:17:54.150998Z"
    },
    "papermill": {
     "duration": 0.020517,
     "end_time": "2022-08-08T15:17:54.154426",
     "exception": false,
     "start_time": "2022-08-08T15:17:54.133909",
     "status": "completed"
    },
    "tags": []
   },
   "outputs": [],
   "source": [
    "from sklearn.preprocessing import OneHotEncoder\n",
    "\n",
    "class FeatureEncoder(BaseEstimator, TransformerMixin):\n",
    "    \n",
    "    def fit(self, X, y=None):\n",
    "        return self\n",
    "    \n",
    "    def transform(self, X):\n",
    "        encoder = OneHotEncoder()\n",
    "        matrix = encoder.fit_transform(X[[\"Embarked\"]]).toarray()\n",
    "        \n",
    "        column_names = (\"C\", \"S\", \"Q\", \"N\")\n",
    "        \n",
    "        for i in range(len(matrix.T)):\n",
    "            X[column_names[i]] = matrix.T[i]\n",
    "        \n",
    "        matrix = encoder.fit_transform(X[[\"Sex\"]]).toarray()\n",
    "        \n",
    "        column_names = [\"Female\", \"Male\"]\n",
    "        \n",
    "        for i in range(len(matrix.T)):\n",
    "            X[column_names[i]] = matrix.T[i]\n",
    "            \n",
    "        return X\n"
   ]
  },
  {
   "cell_type": "code",
   "execution_count": 8,
   "id": "ff95c875",
   "metadata": {
    "execution": {
     "iopub.execute_input": "2022-08-08T15:17:54.174025Z",
     "iopub.status.busy": "2022-08-08T15:17:54.173631Z",
     "iopub.status.idle": "2022-08-08T15:17:54.179299Z",
     "shell.execute_reply": "2022-08-08T15:17:54.178434Z"
    },
    "papermill": {
     "duration": 0.017858,
     "end_time": "2022-08-08T15:17:54.181649",
     "exception": false,
     "start_time": "2022-08-08T15:17:54.163791",
     "status": "completed"
    },
    "tags": []
   },
   "outputs": [],
   "source": [
    "class FeatureDropper(BaseEstimator, TransformerMixin):\n",
    "    \n",
    "    def fit(self, X, y=None):\n",
    "        return self\n",
    "    \n",
    "    def transform(self, X):\n",
    "        return X.drop([\"Embarked\", \"Name\", \"Ticket\", \"Cabin\", \"Sex\", \"N\"], axis=1, errors=\"ignore\")"
   ]
  },
  {
   "cell_type": "code",
   "execution_count": 9,
   "id": "78f082c6",
   "metadata": {
    "execution": {
     "iopub.execute_input": "2022-08-08T15:17:54.200979Z",
     "iopub.status.busy": "2022-08-08T15:17:54.200355Z",
     "iopub.status.idle": "2022-08-08T15:17:54.207276Z",
     "shell.execute_reply": "2022-08-08T15:17:54.206356Z"
    },
    "papermill": {
     "duration": 0.019429,
     "end_time": "2022-08-08T15:17:54.209773",
     "exception": false,
     "start_time": "2022-08-08T15:17:54.190344",
     "status": "completed"
    },
    "tags": []
   },
   "outputs": [],
   "source": [
    "from sklearn.pipeline import Pipeline\n",
    "\n",
    "pipeline = Pipeline([(\"ageimputer\", AgeImputer()),\n",
    "                     (\"featureencoder\", FeatureEncoder()),\n",
    "                     (\"featuredropper\", FeatureDropper())])"
   ]
  },
  {
   "cell_type": "code",
   "execution_count": 10,
   "id": "86ad6033",
   "metadata": {
    "execution": {
     "iopub.execute_input": "2022-08-08T15:17:54.228773Z",
     "iopub.status.busy": "2022-08-08T15:17:54.228129Z",
     "iopub.status.idle": "2022-08-08T15:17:54.243690Z",
     "shell.execute_reply": "2022-08-08T15:17:54.242646Z"
    },
    "papermill": {
     "duration": 0.02796,
     "end_time": "2022-08-08T15:17:54.246242",
     "exception": false,
     "start_time": "2022-08-08T15:17:54.218282",
     "status": "completed"
    },
    "tags": []
   },
   "outputs": [],
   "source": [
    "strat_train_set = pipeline.fit_transform(strat_train_set)"
   ]
  },
  {
   "cell_type": "code",
   "execution_count": 11,
   "id": "aa6a783c",
   "metadata": {
    "execution": {
     "iopub.execute_input": "2022-08-08T15:17:54.266006Z",
     "iopub.status.busy": "2022-08-08T15:17:54.265384Z",
     "iopub.status.idle": "2022-08-08T15:17:54.292826Z",
     "shell.execute_reply": "2022-08-08T15:17:54.291450Z"
    },
    "papermill": {
     "duration": 0.039993,
     "end_time": "2022-08-08T15:17:54.295250",
     "exception": false,
     "start_time": "2022-08-08T15:17:54.255257",
     "status": "completed"
    },
    "tags": []
   },
   "outputs": [
    {
     "data": {
      "text/html": [
       "<div>\n",
       "<style scoped>\n",
       "    .dataframe tbody tr th:only-of-type {\n",
       "        vertical-align: middle;\n",
       "    }\n",
       "\n",
       "    .dataframe tbody tr th {\n",
       "        vertical-align: top;\n",
       "    }\n",
       "\n",
       "    .dataframe thead th {\n",
       "        text-align: right;\n",
       "    }\n",
       "</style>\n",
       "<table border=\"1\" class=\"dataframe\">\n",
       "  <thead>\n",
       "    <tr style=\"text-align: right;\">\n",
       "      <th></th>\n",
       "      <th>PassengerId</th>\n",
       "      <th>Survived</th>\n",
       "      <th>Pclass</th>\n",
       "      <th>Age</th>\n",
       "      <th>SibSp</th>\n",
       "      <th>Parch</th>\n",
       "      <th>Fare</th>\n",
       "      <th>C</th>\n",
       "      <th>S</th>\n",
       "      <th>Q</th>\n",
       "      <th>Female</th>\n",
       "      <th>Male</th>\n",
       "    </tr>\n",
       "  </thead>\n",
       "  <tbody>\n",
       "    <tr>\n",
       "      <th>415</th>\n",
       "      <td>416</td>\n",
       "      <td>0</td>\n",
       "      <td>3</td>\n",
       "      <td>29.930317</td>\n",
       "      <td>0</td>\n",
       "      <td>0</td>\n",
       "      <td>8.0500</td>\n",
       "      <td>0.0</td>\n",
       "      <td>0.0</td>\n",
       "      <td>1.0</td>\n",
       "      <td>1.0</td>\n",
       "      <td>0.0</td>\n",
       "    </tr>\n",
       "    <tr>\n",
       "      <th>684</th>\n",
       "      <td>685</td>\n",
       "      <td>0</td>\n",
       "      <td>2</td>\n",
       "      <td>60.000000</td>\n",
       "      <td>1</td>\n",
       "      <td>1</td>\n",
       "      <td>39.0000</td>\n",
       "      <td>0.0</td>\n",
       "      <td>0.0</td>\n",
       "      <td>1.0</td>\n",
       "      <td>0.0</td>\n",
       "      <td>1.0</td>\n",
       "    </tr>\n",
       "    <tr>\n",
       "      <th>229</th>\n",
       "      <td>230</td>\n",
       "      <td>0</td>\n",
       "      <td>3</td>\n",
       "      <td>29.930317</td>\n",
       "      <td>3</td>\n",
       "      <td>1</td>\n",
       "      <td>25.4667</td>\n",
       "      <td>0.0</td>\n",
       "      <td>0.0</td>\n",
       "      <td>1.0</td>\n",
       "      <td>1.0</td>\n",
       "      <td>0.0</td>\n",
       "    </tr>\n",
       "    <tr>\n",
       "      <th>320</th>\n",
       "      <td>321</td>\n",
       "      <td>0</td>\n",
       "      <td>3</td>\n",
       "      <td>22.000000</td>\n",
       "      <td>0</td>\n",
       "      <td>0</td>\n",
       "      <td>7.2500</td>\n",
       "      <td>0.0</td>\n",
       "      <td>0.0</td>\n",
       "      <td>1.0</td>\n",
       "      <td>0.0</td>\n",
       "      <td>1.0</td>\n",
       "    </tr>\n",
       "    <tr>\n",
       "      <th>195</th>\n",
       "      <td>196</td>\n",
       "      <td>1</td>\n",
       "      <td>1</td>\n",
       "      <td>58.000000</td>\n",
       "      <td>0</td>\n",
       "      <td>0</td>\n",
       "      <td>146.5208</td>\n",
       "      <td>1.0</td>\n",
       "      <td>0.0</td>\n",
       "      <td>0.0</td>\n",
       "      <td>1.0</td>\n",
       "      <td>0.0</td>\n",
       "    </tr>\n",
       "    <tr>\n",
       "      <th>...</th>\n",
       "      <td>...</td>\n",
       "      <td>...</td>\n",
       "      <td>...</td>\n",
       "      <td>...</td>\n",
       "      <td>...</td>\n",
       "      <td>...</td>\n",
       "      <td>...</td>\n",
       "      <td>...</td>\n",
       "      <td>...</td>\n",
       "      <td>...</td>\n",
       "      <td>...</td>\n",
       "      <td>...</td>\n",
       "    </tr>\n",
       "    <tr>\n",
       "      <th>688</th>\n",
       "      <td>689</td>\n",
       "      <td>0</td>\n",
       "      <td>3</td>\n",
       "      <td>18.000000</td>\n",
       "      <td>0</td>\n",
       "      <td>0</td>\n",
       "      <td>7.7958</td>\n",
       "      <td>0.0</td>\n",
       "      <td>0.0</td>\n",
       "      <td>1.0</td>\n",
       "      <td>0.0</td>\n",
       "      <td>1.0</td>\n",
       "    </tr>\n",
       "    <tr>\n",
       "      <th>707</th>\n",
       "      <td>708</td>\n",
       "      <td>1</td>\n",
       "      <td>1</td>\n",
       "      <td>42.000000</td>\n",
       "      <td>0</td>\n",
       "      <td>0</td>\n",
       "      <td>26.2875</td>\n",
       "      <td>0.0</td>\n",
       "      <td>0.0</td>\n",
       "      <td>1.0</td>\n",
       "      <td>0.0</td>\n",
       "      <td>1.0</td>\n",
       "    </tr>\n",
       "    <tr>\n",
       "      <th>503</th>\n",
       "      <td>504</td>\n",
       "      <td>0</td>\n",
       "      <td>3</td>\n",
       "      <td>37.000000</td>\n",
       "      <td>0</td>\n",
       "      <td>0</td>\n",
       "      <td>9.5875</td>\n",
       "      <td>0.0</td>\n",
       "      <td>0.0</td>\n",
       "      <td>1.0</td>\n",
       "      <td>1.0</td>\n",
       "      <td>0.0</td>\n",
       "    </tr>\n",
       "    <tr>\n",
       "      <th>852</th>\n",
       "      <td>853</td>\n",
       "      <td>0</td>\n",
       "      <td>3</td>\n",
       "      <td>9.000000</td>\n",
       "      <td>1</td>\n",
       "      <td>1</td>\n",
       "      <td>15.2458</td>\n",
       "      <td>1.0</td>\n",
       "      <td>0.0</td>\n",
       "      <td>0.0</td>\n",
       "      <td>1.0</td>\n",
       "      <td>0.0</td>\n",
       "    </tr>\n",
       "    <tr>\n",
       "      <th>689</th>\n",
       "      <td>690</td>\n",
       "      <td>1</td>\n",
       "      <td>1</td>\n",
       "      <td>15.000000</td>\n",
       "      <td>0</td>\n",
       "      <td>1</td>\n",
       "      <td>211.3375</td>\n",
       "      <td>0.0</td>\n",
       "      <td>0.0</td>\n",
       "      <td>1.0</td>\n",
       "      <td>1.0</td>\n",
       "      <td>0.0</td>\n",
       "    </tr>\n",
       "  </tbody>\n",
       "</table>\n",
       "<p>712 rows × 12 columns</p>\n",
       "</div>"
      ],
      "text/plain": [
       "     PassengerId  Survived  Pclass        Age  SibSp  Parch      Fare    C  \\\n",
       "415          416         0       3  29.930317      0      0    8.0500  0.0   \n",
       "684          685         0       2  60.000000      1      1   39.0000  0.0   \n",
       "229          230         0       3  29.930317      3      1   25.4667  0.0   \n",
       "320          321         0       3  22.000000      0      0    7.2500  0.0   \n",
       "195          196         1       1  58.000000      0      0  146.5208  1.0   \n",
       "..           ...       ...     ...        ...    ...    ...       ...  ...   \n",
       "688          689         0       3  18.000000      0      0    7.7958  0.0   \n",
       "707          708         1       1  42.000000      0      0   26.2875  0.0   \n",
       "503          504         0       3  37.000000      0      0    9.5875  0.0   \n",
       "852          853         0       3   9.000000      1      1   15.2458  1.0   \n",
       "689          690         1       1  15.000000      0      1  211.3375  0.0   \n",
       "\n",
       "       S    Q  Female  Male  \n",
       "415  0.0  1.0     1.0   0.0  \n",
       "684  0.0  1.0     0.0   1.0  \n",
       "229  0.0  1.0     1.0   0.0  \n",
       "320  0.0  1.0     0.0   1.0  \n",
       "195  0.0  0.0     1.0   0.0  \n",
       "..   ...  ...     ...   ...  \n",
       "688  0.0  1.0     0.0   1.0  \n",
       "707  0.0  1.0     0.0   1.0  \n",
       "503  0.0  1.0     1.0   0.0  \n",
       "852  0.0  0.0     1.0   0.0  \n",
       "689  0.0  1.0     1.0   0.0  \n",
       "\n",
       "[712 rows x 12 columns]"
      ]
     },
     "execution_count": 11,
     "metadata": {},
     "output_type": "execute_result"
    }
   ],
   "source": [
    "strat_train_set"
   ]
  },
  {
   "cell_type": "code",
   "execution_count": 12,
   "id": "4617c2ef",
   "metadata": {
    "execution": {
     "iopub.execute_input": "2022-08-08T15:17:54.315418Z",
     "iopub.status.busy": "2022-08-08T15:17:54.314619Z",
     "iopub.status.idle": "2022-08-08T15:17:54.328401Z",
     "shell.execute_reply": "2022-08-08T15:17:54.326565Z"
    },
    "papermill": {
     "duration": 0.027159,
     "end_time": "2022-08-08T15:17:54.331423",
     "exception": false,
     "start_time": "2022-08-08T15:17:54.304264",
     "status": "completed"
    },
    "tags": []
   },
   "outputs": [
    {
     "name": "stdout",
     "output_type": "stream",
     "text": [
      "<class 'pandas.core.frame.DataFrame'>\n",
      "Int64Index: 712 entries, 415 to 689\n",
      "Data columns (total 12 columns):\n",
      " #   Column       Non-Null Count  Dtype  \n",
      "---  ------       --------------  -----  \n",
      " 0   PassengerId  712 non-null    int64  \n",
      " 1   Survived     712 non-null    int64  \n",
      " 2   Pclass       712 non-null    int64  \n",
      " 3   Age          712 non-null    float64\n",
      " 4   SibSp        712 non-null    int64  \n",
      " 5   Parch        712 non-null    int64  \n",
      " 6   Fare         712 non-null    float64\n",
      " 7   C            712 non-null    float64\n",
      " 8   S            712 non-null    float64\n",
      " 9   Q            712 non-null    float64\n",
      " 10  Female       712 non-null    float64\n",
      " 11  Male         712 non-null    float64\n",
      "dtypes: float64(7), int64(5)\n",
      "memory usage: 72.3 KB\n"
     ]
    }
   ],
   "source": [
    "strat_train_set.info()"
   ]
  },
  {
   "cell_type": "code",
   "execution_count": 13,
   "id": "7b0c0bf1",
   "metadata": {
    "execution": {
     "iopub.execute_input": "2022-08-08T15:17:54.351814Z",
     "iopub.status.busy": "2022-08-08T15:17:54.351015Z",
     "iopub.status.idle": "2022-08-08T15:17:54.362292Z",
     "shell.execute_reply": "2022-08-08T15:17:54.361379Z"
    },
    "papermill": {
     "duration": 0.02419,
     "end_time": "2022-08-08T15:17:54.364822",
     "exception": false,
     "start_time": "2022-08-08T15:17:54.340632",
     "status": "completed"
    },
    "tags": []
   },
   "outputs": [],
   "source": [
    "from sklearn.preprocessing import StandardScaler\n",
    "\n",
    "X = strat_train_set.drop([\"Survived\"], axis=1)\n",
    "y = strat_train_set[\"Survived\"]\n",
    "\n",
    "scaler = StandardScaler()\n",
    "X_data = scaler.fit_transform(X)\n",
    "y_data = y.to_numpy()"
   ]
  },
  {
   "cell_type": "code",
   "execution_count": 14,
   "id": "f4b9821a",
   "metadata": {
    "execution": {
     "iopub.execute_input": "2022-08-08T15:17:54.385029Z",
     "iopub.status.busy": "2022-08-08T15:17:54.384254Z",
     "iopub.status.idle": "2022-08-08T15:18:35.403649Z",
     "shell.execute_reply": "2022-08-08T15:18:35.402514Z"
    },
    "papermill": {
     "duration": 41.04221,
     "end_time": "2022-08-08T15:18:35.416069",
     "exception": false,
     "start_time": "2022-08-08T15:17:54.373859",
     "status": "completed"
    },
    "tags": []
   },
   "outputs": [
    {
     "data": {
      "text/plain": [
       "GridSearchCV(cv=3, estimator=RandomForestClassifier(),\n",
       "             param_grid=[{'max_depth': [None, 5, 10],\n",
       "                          'min_samples_split': [2, 3, 4],\n",
       "                          'n_estimators': [10, 100, 200, 500]}],\n",
       "             return_train_score=True, scoring='accuracy')"
      ]
     },
     "execution_count": 14,
     "metadata": {},
     "output_type": "execute_result"
    }
   ],
   "source": [
    "from sklearn.ensemble import RandomForestClassifier\n",
    "from sklearn.model_selection import GridSearchCV\n",
    "\n",
    "\n",
    "clf = RandomForestClassifier()\n",
    "\n",
    "param_grid = [\n",
    "    {\"n_estimators\": [10, 100, 200, 500], \"max_depth\": [None, 5, 10], \"min_samples_split\": [2, 3, 4]}\n",
    "]\n",
    "\n",
    "grid_search = GridSearchCV(clf, param_grid, cv=3, scoring=\"accuracy\", return_train_score=True)\n",
    "grid_search.fit(X_data, y_data)"
   ]
  },
  {
   "cell_type": "code",
   "execution_count": 15,
   "id": "6d647309",
   "metadata": {
    "execution": {
     "iopub.execute_input": "2022-08-08T15:18:35.437278Z",
     "iopub.status.busy": "2022-08-08T15:18:35.436774Z",
     "iopub.status.idle": "2022-08-08T15:18:35.441585Z",
     "shell.execute_reply": "2022-08-08T15:18:35.440701Z"
    },
    "papermill": {
     "duration": 0.019002,
     "end_time": "2022-08-08T15:18:35.444357",
     "exception": false,
     "start_time": "2022-08-08T15:18:35.425355",
     "status": "completed"
    },
    "tags": []
   },
   "outputs": [],
   "source": [
    "final_clf = grid_search.best_estimator_"
   ]
  },
  {
   "cell_type": "code",
   "execution_count": 16,
   "id": "c9f06392",
   "metadata": {
    "execution": {
     "iopub.execute_input": "2022-08-08T15:18:35.469537Z",
     "iopub.status.busy": "2022-08-08T15:18:35.467605Z",
     "iopub.status.idle": "2022-08-08T15:18:35.478040Z",
     "shell.execute_reply": "2022-08-08T15:18:35.477113Z"
    },
    "papermill": {
     "duration": 0.024595,
     "end_time": "2022-08-08T15:18:35.480526",
     "exception": false,
     "start_time": "2022-08-08T15:18:35.455931",
     "status": "completed"
    },
    "tags": []
   },
   "outputs": [
    {
     "data": {
      "text/plain": [
       "RandomForestClassifier(min_samples_split=3, n_estimators=10)"
      ]
     },
     "execution_count": 16,
     "metadata": {},
     "output_type": "execute_result"
    }
   ],
   "source": [
    "final_clf"
   ]
  },
  {
   "cell_type": "code",
   "execution_count": 17,
   "id": "090eeddf",
   "metadata": {
    "execution": {
     "iopub.execute_input": "2022-08-08T15:18:35.502036Z",
     "iopub.status.busy": "2022-08-08T15:18:35.500744Z",
     "iopub.status.idle": "2022-08-08T15:18:35.517901Z",
     "shell.execute_reply": "2022-08-08T15:18:35.516885Z"
    },
    "papermill": {
     "duration": 0.031028,
     "end_time": "2022-08-08T15:18:35.520895",
     "exception": false,
     "start_time": "2022-08-08T15:18:35.489867",
     "status": "completed"
    },
    "tags": []
   },
   "outputs": [],
   "source": [
    "strat_test_set = pipeline.fit_transform(strat_test_set)"
   ]
  },
  {
   "cell_type": "code",
   "execution_count": 18,
   "id": "19efcee4",
   "metadata": {
    "execution": {
     "iopub.execute_input": "2022-08-08T15:18:35.545329Z",
     "iopub.status.busy": "2022-08-08T15:18:35.544550Z",
     "iopub.status.idle": "2022-08-08T15:18:35.557149Z",
     "shell.execute_reply": "2022-08-08T15:18:35.556018Z"
    },
    "papermill": {
     "duration": 0.026051,
     "end_time": "2022-08-08T15:18:35.559759",
     "exception": false,
     "start_time": "2022-08-08T15:18:35.533708",
     "status": "completed"
    },
    "tags": []
   },
   "outputs": [],
   "source": [
    "X_test = strat_test_set.drop([\"Survived\"], axis=1)\n",
    "y_test = strat_test_set[\"Survived\"]\n",
    "\n",
    "scaler = StandardScaler()\n",
    "X_data_test = scaler.fit_transform(X_test)\n",
    "y_data_test = y_test.to_numpy()"
   ]
  },
  {
   "cell_type": "code",
   "execution_count": 19,
   "id": "6669027e",
   "metadata": {
    "execution": {
     "iopub.execute_input": "2022-08-08T15:18:35.581343Z",
     "iopub.status.busy": "2022-08-08T15:18:35.580448Z",
     "iopub.status.idle": "2022-08-08T15:18:35.591371Z",
     "shell.execute_reply": "2022-08-08T15:18:35.590227Z"
    },
    "papermill": {
     "duration": 0.024432,
     "end_time": "2022-08-08T15:18:35.593895",
     "exception": false,
     "start_time": "2022-08-08T15:18:35.569463",
     "status": "completed"
    },
    "tags": []
   },
   "outputs": [
    {
     "data": {
      "text/plain": [
       "0.770949720670391"
      ]
     },
     "execution_count": 19,
     "metadata": {},
     "output_type": "execute_result"
    }
   ],
   "source": [
    "final_clf.score(X_data_test, y_data_test)"
   ]
  },
  {
   "cell_type": "code",
   "execution_count": 20,
   "id": "95b9cfc5",
   "metadata": {
    "execution": {
     "iopub.execute_input": "2022-08-08T15:18:35.616766Z",
     "iopub.status.busy": "2022-08-08T15:18:35.614495Z",
     "iopub.status.idle": "2022-08-08T15:18:35.639193Z",
     "shell.execute_reply": "2022-08-08T15:18:35.638237Z"
    },
    "papermill": {
     "duration": 0.041022,
     "end_time": "2022-08-08T15:18:35.644755",
     "exception": false,
     "start_time": "2022-08-08T15:18:35.603733",
     "status": "completed"
    },
    "tags": []
   },
   "outputs": [],
   "source": [
    "final_data = pipeline.fit_transform(train_dataset)"
   ]
  },
  {
   "cell_type": "code",
   "execution_count": 21,
   "id": "9a4f3be3",
   "metadata": {
    "execution": {
     "iopub.execute_input": "2022-08-08T15:18:35.671516Z",
     "iopub.status.busy": "2022-08-08T15:18:35.670382Z",
     "iopub.status.idle": "2022-08-08T15:18:35.704097Z",
     "shell.execute_reply": "2022-08-08T15:18:35.702573Z"
    },
    "papermill": {
     "duration": 0.052801,
     "end_time": "2022-08-08T15:18:35.709842",
     "exception": false,
     "start_time": "2022-08-08T15:18:35.657041",
     "status": "completed"
    },
    "tags": []
   },
   "outputs": [
    {
     "data": {
      "text/html": [
       "<div>\n",
       "<style scoped>\n",
       "    .dataframe tbody tr th:only-of-type {\n",
       "        vertical-align: middle;\n",
       "    }\n",
       "\n",
       "    .dataframe tbody tr th {\n",
       "        vertical-align: top;\n",
       "    }\n",
       "\n",
       "    .dataframe thead th {\n",
       "        text-align: right;\n",
       "    }\n",
       "</style>\n",
       "<table border=\"1\" class=\"dataframe\">\n",
       "  <thead>\n",
       "    <tr style=\"text-align: right;\">\n",
       "      <th></th>\n",
       "      <th>PassengerId</th>\n",
       "      <th>Survived</th>\n",
       "      <th>Pclass</th>\n",
       "      <th>Age</th>\n",
       "      <th>SibSp</th>\n",
       "      <th>Parch</th>\n",
       "      <th>Fare</th>\n",
       "      <th>C</th>\n",
       "      <th>S</th>\n",
       "      <th>Q</th>\n",
       "      <th>Female</th>\n",
       "      <th>Male</th>\n",
       "    </tr>\n",
       "  </thead>\n",
       "  <tbody>\n",
       "    <tr>\n",
       "      <th>0</th>\n",
       "      <td>1</td>\n",
       "      <td>0</td>\n",
       "      <td>3</td>\n",
       "      <td>22.000000</td>\n",
       "      <td>1</td>\n",
       "      <td>0</td>\n",
       "      <td>7.2500</td>\n",
       "      <td>0.0</td>\n",
       "      <td>0.0</td>\n",
       "      <td>1.0</td>\n",
       "      <td>0.0</td>\n",
       "      <td>1.0</td>\n",
       "    </tr>\n",
       "    <tr>\n",
       "      <th>1</th>\n",
       "      <td>2</td>\n",
       "      <td>1</td>\n",
       "      <td>1</td>\n",
       "      <td>38.000000</td>\n",
       "      <td>1</td>\n",
       "      <td>0</td>\n",
       "      <td>71.2833</td>\n",
       "      <td>1.0</td>\n",
       "      <td>0.0</td>\n",
       "      <td>0.0</td>\n",
       "      <td>1.0</td>\n",
       "      <td>0.0</td>\n",
       "    </tr>\n",
       "    <tr>\n",
       "      <th>2</th>\n",
       "      <td>3</td>\n",
       "      <td>1</td>\n",
       "      <td>3</td>\n",
       "      <td>26.000000</td>\n",
       "      <td>0</td>\n",
       "      <td>0</td>\n",
       "      <td>7.9250</td>\n",
       "      <td>0.0</td>\n",
       "      <td>0.0</td>\n",
       "      <td>1.0</td>\n",
       "      <td>1.0</td>\n",
       "      <td>0.0</td>\n",
       "    </tr>\n",
       "    <tr>\n",
       "      <th>3</th>\n",
       "      <td>4</td>\n",
       "      <td>1</td>\n",
       "      <td>1</td>\n",
       "      <td>35.000000</td>\n",
       "      <td>1</td>\n",
       "      <td>0</td>\n",
       "      <td>53.1000</td>\n",
       "      <td>0.0</td>\n",
       "      <td>0.0</td>\n",
       "      <td>1.0</td>\n",
       "      <td>1.0</td>\n",
       "      <td>0.0</td>\n",
       "    </tr>\n",
       "    <tr>\n",
       "      <th>4</th>\n",
       "      <td>5</td>\n",
       "      <td>0</td>\n",
       "      <td>3</td>\n",
       "      <td>35.000000</td>\n",
       "      <td>0</td>\n",
       "      <td>0</td>\n",
       "      <td>8.0500</td>\n",
       "      <td>0.0</td>\n",
       "      <td>0.0</td>\n",
       "      <td>1.0</td>\n",
       "      <td>0.0</td>\n",
       "      <td>1.0</td>\n",
       "    </tr>\n",
       "    <tr>\n",
       "      <th>...</th>\n",
       "      <td>...</td>\n",
       "      <td>...</td>\n",
       "      <td>...</td>\n",
       "      <td>...</td>\n",
       "      <td>...</td>\n",
       "      <td>...</td>\n",
       "      <td>...</td>\n",
       "      <td>...</td>\n",
       "      <td>...</td>\n",
       "      <td>...</td>\n",
       "      <td>...</td>\n",
       "      <td>...</td>\n",
       "    </tr>\n",
       "    <tr>\n",
       "      <th>886</th>\n",
       "      <td>887</td>\n",
       "      <td>0</td>\n",
       "      <td>2</td>\n",
       "      <td>27.000000</td>\n",
       "      <td>0</td>\n",
       "      <td>0</td>\n",
       "      <td>13.0000</td>\n",
       "      <td>0.0</td>\n",
       "      <td>0.0</td>\n",
       "      <td>1.0</td>\n",
       "      <td>0.0</td>\n",
       "      <td>1.0</td>\n",
       "    </tr>\n",
       "    <tr>\n",
       "      <th>887</th>\n",
       "      <td>888</td>\n",
       "      <td>1</td>\n",
       "      <td>1</td>\n",
       "      <td>19.000000</td>\n",
       "      <td>0</td>\n",
       "      <td>0</td>\n",
       "      <td>30.0000</td>\n",
       "      <td>0.0</td>\n",
       "      <td>0.0</td>\n",
       "      <td>1.0</td>\n",
       "      <td>1.0</td>\n",
       "      <td>0.0</td>\n",
       "    </tr>\n",
       "    <tr>\n",
       "      <th>888</th>\n",
       "      <td>889</td>\n",
       "      <td>0</td>\n",
       "      <td>3</td>\n",
       "      <td>29.699118</td>\n",
       "      <td>1</td>\n",
       "      <td>2</td>\n",
       "      <td>23.4500</td>\n",
       "      <td>0.0</td>\n",
       "      <td>0.0</td>\n",
       "      <td>1.0</td>\n",
       "      <td>1.0</td>\n",
       "      <td>0.0</td>\n",
       "    </tr>\n",
       "    <tr>\n",
       "      <th>889</th>\n",
       "      <td>890</td>\n",
       "      <td>1</td>\n",
       "      <td>1</td>\n",
       "      <td>26.000000</td>\n",
       "      <td>0</td>\n",
       "      <td>0</td>\n",
       "      <td>30.0000</td>\n",
       "      <td>1.0</td>\n",
       "      <td>0.0</td>\n",
       "      <td>0.0</td>\n",
       "      <td>0.0</td>\n",
       "      <td>1.0</td>\n",
       "    </tr>\n",
       "    <tr>\n",
       "      <th>890</th>\n",
       "      <td>891</td>\n",
       "      <td>0</td>\n",
       "      <td>3</td>\n",
       "      <td>32.000000</td>\n",
       "      <td>0</td>\n",
       "      <td>0</td>\n",
       "      <td>7.7500</td>\n",
       "      <td>0.0</td>\n",
       "      <td>1.0</td>\n",
       "      <td>0.0</td>\n",
       "      <td>0.0</td>\n",
       "      <td>1.0</td>\n",
       "    </tr>\n",
       "  </tbody>\n",
       "</table>\n",
       "<p>891 rows × 12 columns</p>\n",
       "</div>"
      ],
      "text/plain": [
       "     PassengerId  Survived  Pclass        Age  SibSp  Parch     Fare    C  \\\n",
       "0              1         0       3  22.000000      1      0   7.2500  0.0   \n",
       "1              2         1       1  38.000000      1      0  71.2833  1.0   \n",
       "2              3         1       3  26.000000      0      0   7.9250  0.0   \n",
       "3              4         1       1  35.000000      1      0  53.1000  0.0   \n",
       "4              5         0       3  35.000000      0      0   8.0500  0.0   \n",
       "..           ...       ...     ...        ...    ...    ...      ...  ...   \n",
       "886          887         0       2  27.000000      0      0  13.0000  0.0   \n",
       "887          888         1       1  19.000000      0      0  30.0000  0.0   \n",
       "888          889         0       3  29.699118      1      2  23.4500  0.0   \n",
       "889          890         1       1  26.000000      0      0  30.0000  1.0   \n",
       "890          891         0       3  32.000000      0      0   7.7500  0.0   \n",
       "\n",
       "       S    Q  Female  Male  \n",
       "0    0.0  1.0     0.0   1.0  \n",
       "1    0.0  0.0     1.0   0.0  \n",
       "2    0.0  1.0     1.0   0.0  \n",
       "3    0.0  1.0     1.0   0.0  \n",
       "4    0.0  1.0     0.0   1.0  \n",
       "..   ...  ...     ...   ...  \n",
       "886  0.0  1.0     0.0   1.0  \n",
       "887  0.0  1.0     1.0   0.0  \n",
       "888  0.0  1.0     1.0   0.0  \n",
       "889  0.0  0.0     0.0   1.0  \n",
       "890  1.0  0.0     0.0   1.0  \n",
       "\n",
       "[891 rows x 12 columns]"
      ]
     },
     "execution_count": 21,
     "metadata": {},
     "output_type": "execute_result"
    }
   ],
   "source": [
    "final_data"
   ]
  },
  {
   "cell_type": "code",
   "execution_count": 22,
   "id": "04be50af",
   "metadata": {
    "execution": {
     "iopub.execute_input": "2022-08-08T15:18:35.744870Z",
     "iopub.status.busy": "2022-08-08T15:18:35.743477Z",
     "iopub.status.idle": "2022-08-08T15:18:35.759584Z",
     "shell.execute_reply": "2022-08-08T15:18:35.757482Z"
    },
    "papermill": {
     "duration": 0.037991,
     "end_time": "2022-08-08T15:18:35.763112",
     "exception": false,
     "start_time": "2022-08-08T15:18:35.725121",
     "status": "completed"
    },
    "tags": []
   },
   "outputs": [],
   "source": [
    "X_final = final_data.drop([\"Survived\"], axis=1)\n",
    "y_final = final_data[\"Survived\"]\n",
    "\n",
    "scaler = StandardScaler()\n",
    "X_data_final = scaler.fit_transform(X_final)\n",
    "y_data_final = y_final.to_numpy()"
   ]
  },
  {
   "cell_type": "code",
   "execution_count": 23,
   "id": "961ebb0e",
   "metadata": {
    "execution": {
     "iopub.execute_input": "2022-08-08T15:18:35.793170Z",
     "iopub.status.busy": "2022-08-08T15:18:35.792188Z",
     "iopub.status.idle": "2022-08-08T15:19:20.308976Z",
     "shell.execute_reply": "2022-08-08T15:19:20.307694Z"
    },
    "papermill": {
     "duration": 44.542694,
     "end_time": "2022-08-08T15:19:20.320454",
     "exception": false,
     "start_time": "2022-08-08T15:18:35.777760",
     "status": "completed"
    },
    "tags": []
   },
   "outputs": [
    {
     "data": {
      "text/plain": [
       "GridSearchCV(cv=3, estimator=RandomForestClassifier(),\n",
       "             param_grid=[{'max_depth': [None, 5, 10],\n",
       "                          'min_samples_split': [2, 3, 4],\n",
       "                          'n_estimators': [10, 100, 200, 500]}],\n",
       "             return_train_score=True, scoring='accuracy')"
      ]
     },
     "execution_count": 23,
     "metadata": {},
     "output_type": "execute_result"
    }
   ],
   "source": [
    "prod_clf = RandomForestClassifier()\n",
    "\n",
    "param_grid = [\n",
    "    {\"n_estimators\": [10, 100, 200, 500], \"max_depth\": [None, 5, 10], \"min_samples_split\": [2, 3, 4]}\n",
    "]\n",
    "\n",
    "grid_search = GridSearchCV(prod_clf, param_grid, cv=3, scoring=\"accuracy\", return_train_score=True)\n",
    "grid_search.fit(X_data_final, y_data_final)"
   ]
  },
  {
   "cell_type": "code",
   "execution_count": 24,
   "id": "23df770b",
   "metadata": {
    "execution": {
     "iopub.execute_input": "2022-08-08T15:19:20.341338Z",
     "iopub.status.busy": "2022-08-08T15:19:20.340937Z",
     "iopub.status.idle": "2022-08-08T15:19:20.349120Z",
     "shell.execute_reply": "2022-08-08T15:19:20.347891Z"
    },
    "papermill": {
     "duration": 0.021457,
     "end_time": "2022-08-08T15:19:20.351580",
     "exception": false,
     "start_time": "2022-08-08T15:19:20.330123",
     "status": "completed"
    },
    "tags": []
   },
   "outputs": [
    {
     "data": {
      "text/plain": [
       "RandomForestClassifier(max_depth=10, n_estimators=500)"
      ]
     },
     "execution_count": 24,
     "metadata": {},
     "output_type": "execute_result"
    }
   ],
   "source": [
    "prod_final_clf = grid_search.best_estimator_\n",
    "prod_final_clf"
   ]
  },
  {
   "cell_type": "code",
   "execution_count": 25,
   "id": "a49bd8d3",
   "metadata": {
    "execution": {
     "iopub.execute_input": "2022-08-08T15:19:20.373207Z",
     "iopub.status.busy": "2022-08-08T15:19:20.372482Z",
     "iopub.status.idle": "2022-08-08T15:19:20.387621Z",
     "shell.execute_reply": "2022-08-08T15:19:20.386736Z"
    },
    "papermill": {
     "duration": 0.028748,
     "end_time": "2022-08-08T15:19:20.390103",
     "exception": false,
     "start_time": "2022-08-08T15:19:20.361355",
     "status": "completed"
    },
    "tags": []
   },
   "outputs": [],
   "source": [
    "titanic_test_data = pd.read_csv(\"../input/titanic/test.csv\")"
   ]
  },
  {
   "cell_type": "code",
   "execution_count": 26,
   "id": "84824f59",
   "metadata": {
    "execution": {
     "iopub.execute_input": "2022-08-08T15:19:20.412562Z",
     "iopub.status.busy": "2022-08-08T15:19:20.411874Z",
     "iopub.status.idle": "2022-08-08T15:19:20.426796Z",
     "shell.execute_reply": "2022-08-08T15:19:20.425793Z"
    },
    "papermill": {
     "duration": 0.029809,
     "end_time": "2022-08-08T15:19:20.429844",
     "exception": false,
     "start_time": "2022-08-08T15:19:20.400035",
     "status": "completed"
    },
    "tags": []
   },
   "outputs": [],
   "source": [
    "final_test_data = pipeline.fit_transform(titanic_test_data)"
   ]
  },
  {
   "cell_type": "code",
   "execution_count": 27,
   "id": "d883ecd7",
   "metadata": {
    "execution": {
     "iopub.execute_input": "2022-08-08T15:19:20.451801Z",
     "iopub.status.busy": "2022-08-08T15:19:20.451124Z",
     "iopub.status.idle": "2022-08-08T15:19:20.463661Z",
     "shell.execute_reply": "2022-08-08T15:19:20.462685Z"
    },
    "papermill": {
     "duration": 0.026475,
     "end_time": "2022-08-08T15:19:20.466150",
     "exception": false,
     "start_time": "2022-08-08T15:19:20.439675",
     "status": "completed"
    },
    "tags": []
   },
   "outputs": [],
   "source": [
    "X_final_test = final_test_data\n",
    "X_final_test = X_final_test.fillna(method=\"ffill\")\n",
    "\n",
    "scaler = StandardScaler()\n",
    "X_data_final_test = scaler.fit_transform(X_final_test)"
   ]
  },
  {
   "cell_type": "code",
   "execution_count": 28,
   "id": "8614cf1f",
   "metadata": {
    "execution": {
     "iopub.execute_input": "2022-08-08T15:19:20.487886Z",
     "iopub.status.busy": "2022-08-08T15:19:20.487245Z",
     "iopub.status.idle": "2022-08-08T15:19:20.575243Z",
     "shell.execute_reply": "2022-08-08T15:19:20.574316Z"
    },
    "papermill": {
     "duration": 0.10157,
     "end_time": "2022-08-08T15:19:20.577706",
     "exception": false,
     "start_time": "2022-08-08T15:19:20.476136",
     "status": "completed"
    },
    "tags": []
   },
   "outputs": [],
   "source": [
    "predictions = prod_final_clf.predict(X_data_final_test)"
   ]
  },
  {
   "cell_type": "code",
   "execution_count": 29,
   "id": "531a86ef",
   "metadata": {
    "execution": {
     "iopub.execute_input": "2022-08-08T15:19:20.599263Z",
     "iopub.status.busy": "2022-08-08T15:19:20.598599Z",
     "iopub.status.idle": "2022-08-08T15:19:20.604713Z",
     "shell.execute_reply": "2022-08-08T15:19:20.603955Z"
    },
    "papermill": {
     "duration": 0.019461,
     "end_time": "2022-08-08T15:19:20.606855",
     "exception": false,
     "start_time": "2022-08-08T15:19:20.587394",
     "status": "completed"
    },
    "tags": []
   },
   "outputs": [],
   "source": [
    "final_df = pd.DataFrame(titanic_test_data[\"PassengerId\"])\n",
    "final_df[\"Survived\"] = predictions"
   ]
  },
  {
   "cell_type": "code",
   "execution_count": 30,
   "id": "ffe8260a",
   "metadata": {
    "execution": {
     "iopub.execute_input": "2022-08-08T15:19:20.628423Z",
     "iopub.status.busy": "2022-08-08T15:19:20.627747Z",
     "iopub.status.idle": "2022-08-08T15:19:20.639503Z",
     "shell.execute_reply": "2022-08-08T15:19:20.638390Z"
    },
    "papermill": {
     "duration": 0.025173,
     "end_time": "2022-08-08T15:19:20.641688",
     "exception": false,
     "start_time": "2022-08-08T15:19:20.616515",
     "status": "completed"
    },
    "tags": []
   },
   "outputs": [
    {
     "data": {
      "text/html": [
       "<div>\n",
       "<style scoped>\n",
       "    .dataframe tbody tr th:only-of-type {\n",
       "        vertical-align: middle;\n",
       "    }\n",
       "\n",
       "    .dataframe tbody tr th {\n",
       "        vertical-align: top;\n",
       "    }\n",
       "\n",
       "    .dataframe thead th {\n",
       "        text-align: right;\n",
       "    }\n",
       "</style>\n",
       "<table border=\"1\" class=\"dataframe\">\n",
       "  <thead>\n",
       "    <tr style=\"text-align: right;\">\n",
       "      <th></th>\n",
       "      <th>PassengerId</th>\n",
       "      <th>Survived</th>\n",
       "    </tr>\n",
       "  </thead>\n",
       "  <tbody>\n",
       "    <tr>\n",
       "      <th>0</th>\n",
       "      <td>892</td>\n",
       "      <td>0</td>\n",
       "    </tr>\n",
       "    <tr>\n",
       "      <th>1</th>\n",
       "      <td>893</td>\n",
       "      <td>0</td>\n",
       "    </tr>\n",
       "    <tr>\n",
       "      <th>2</th>\n",
       "      <td>894</td>\n",
       "      <td>0</td>\n",
       "    </tr>\n",
       "    <tr>\n",
       "      <th>3</th>\n",
       "      <td>895</td>\n",
       "      <td>0</td>\n",
       "    </tr>\n",
       "    <tr>\n",
       "      <th>4</th>\n",
       "      <td>896</td>\n",
       "      <td>1</td>\n",
       "    </tr>\n",
       "    <tr>\n",
       "      <th>...</th>\n",
       "      <td>...</td>\n",
       "      <td>...</td>\n",
       "    </tr>\n",
       "    <tr>\n",
       "      <th>413</th>\n",
       "      <td>1305</td>\n",
       "      <td>0</td>\n",
       "    </tr>\n",
       "    <tr>\n",
       "      <th>414</th>\n",
       "      <td>1306</td>\n",
       "      <td>1</td>\n",
       "    </tr>\n",
       "    <tr>\n",
       "      <th>415</th>\n",
       "      <td>1307</td>\n",
       "      <td>0</td>\n",
       "    </tr>\n",
       "    <tr>\n",
       "      <th>416</th>\n",
       "      <td>1308</td>\n",
       "      <td>0</td>\n",
       "    </tr>\n",
       "    <tr>\n",
       "      <th>417</th>\n",
       "      <td>1309</td>\n",
       "      <td>1</td>\n",
       "    </tr>\n",
       "  </tbody>\n",
       "</table>\n",
       "<p>418 rows × 2 columns</p>\n",
       "</div>"
      ],
      "text/plain": [
       "     PassengerId  Survived\n",
       "0            892         0\n",
       "1            893         0\n",
       "2            894         0\n",
       "3            895         0\n",
       "4            896         1\n",
       "..           ...       ...\n",
       "413         1305         0\n",
       "414         1306         1\n",
       "415         1307         0\n",
       "416         1308         0\n",
       "417         1309         1\n",
       "\n",
       "[418 rows x 2 columns]"
      ]
     },
     "execution_count": 30,
     "metadata": {},
     "output_type": "execute_result"
    }
   ],
   "source": [
    "final_df"
   ]
  },
  {
   "cell_type": "code",
   "execution_count": null,
   "id": "df17688c",
   "metadata": {
    "papermill": {
     "duration": 0.009509,
     "end_time": "2022-08-08T15:19:20.661300",
     "exception": false,
     "start_time": "2022-08-08T15:19:20.651791",
     "status": "completed"
    },
    "tags": []
   },
   "outputs": [],
   "source": []
  }
 ],
 "metadata": {
  "kernelspec": {
   "display_name": "Python 3",
   "language": "python",
   "name": "python3"
  },
  "language_info": {
   "codemirror_mode": {
    "name": "ipython",
    "version": 3
   },
   "file_extension": ".py",
   "mimetype": "text/x-python",
   "name": "python",
   "nbconvert_exporter": "python",
   "pygments_lexer": "ipython3",
   "version": "3.7.12"
  },
  "papermill": {
   "default_parameters": {},
   "duration": 98.790374,
   "end_time": "2022-08-08T15:19:21.394518",
   "environment_variables": {},
   "exception": null,
   "input_path": "__notebook__.ipynb",
   "output_path": "__notebook__.ipynb",
   "parameters": {},
   "start_time": "2022-08-08T15:17:42.604144",
   "version": "2.3.4"
  }
 },
 "nbformat": 4,
 "nbformat_minor": 5
}
